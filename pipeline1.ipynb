{
 "cells": [
  {
   "cell_type": "markdown",
   "metadata": {},
   "source": [
    "# Pipeline 1\n",
    "Content -> Word2Vec -> Encoding -> ML Classification"
   ]
  },
  {
   "cell_type": "code",
   "execution_count": 1,
   "metadata": {},
   "outputs": [],
   "source": [
    "# import package\n",
    "import numpy as np\n",
    "import pandas as pd\n",
    "from torch.utils.data import DataLoader, Dataset\n",
    "import gensim\n",
    "from gensim.models import Word2Vec\n",
    "from sklearn.model_selection import train_test_split\n",
    "from sklearn import svm\n",
    "from sklearn.metrics import accuracy_score\n",
    "from sklearn.linear_model import LogisticRegression"
   ]
  },
  {
   "cell_type": "code",
   "execution_count": 2,
   "metadata": {},
   "outputs": [],
   "source": [
    "# set random seed\n",
    "np.random.seed(42)"
   ]
  },
  {
   "cell_type": "markdown",
   "metadata": {},
   "source": [
    "## Dataset"
   ]
  },
  {
   "cell_type": "code",
   "execution_count": 3,
   "metadata": {},
   "outputs": [
    {
     "name": "stdout",
     "output_type": "stream",
     "text": [
      "Training data shape: (4987, 2)\n",
      "                                                text label\n",
      "0  Get the latest from TODAY Sign up for our news...     1\n",
      "1  2d  Conan On The Funeral Trump Will Be Invited...     1\n",
      "2  It’s safe to say that Instagram Stories has fa...     0\n",
      "3  Much like a certain Amazon goddess with a lass...     0\n",
      "4  At a time when the perfect outfit is just one ...     0\n",
      "Testing data shape: (1247, 2)\n",
      "   id                                               text\n",
      "0   2  The 2017 Teen Choice Awards ceremony was held ...\n",
      "1   3  The concert, part of “The Joshua Tree Tour,” w...\n",
      "2   4  Selena Gomez refuses to talk to her mother abo...\n",
      "3   5  This is worse than a lump of coal in your stoc...\n",
      "4   6  Luann De Lesseps is going to rehab after her a...\n"
     ]
    }
   ],
   "source": [
    "# load data\n",
    "train_df = pd.read_csv('dataset/train.csv', sep='\\t', encoding='utf-8')\n",
    "test_df = pd.read_csv('dataset/test.csv', sep='\\t', encoding='utf-8')\n",
    "print(f\"Training data shape: {train_df.shape}\")\n",
    "print(train_df.head())\n",
    "print(f\"Testing data shape: {test_df.shape}\")\n",
    "print(test_df.head())   # no labels"
   ]
  },
  {
   "cell_type": "code",
   "execution_count": 4,
   "metadata": {},
   "outputs": [
    {
     "name": "stdout",
     "output_type": "stream",
     "text": [
      "Null values in training data:\n",
      "text     0\n",
      "label    0\n",
      "dtype: int64\n",
      "Unique labels in training data:\n",
      "['1' '0' 'label']\n",
      "Rows with label 'label':\n",
      "         text  label\n",
      "1615  content  label\n"
     ]
    }
   ],
   "source": [
    "# EDA\n",
    "\n",
    "# check NaN values\n",
    "print(f\"Null values in training data:\")\n",
    "print(train_df.isnull().sum())\n",
    "# print unique labels\n",
    "print(f\"Unique labels in training data:\")\n",
    "print(train_df['label'].unique())\n",
    "# find the row that label == 'label'\n",
    "print(f\"Rows with label 'label':\")\n",
    "print(train_df[train_df['label'] == 'label'])\n",
    "\n",
    "# remove the row that label == 'label'\n",
    "train_df = train_df[train_df['label'] != 'label']\n",
    "\n",
    "# save labels as int type\n",
    "train_df['label'] = train_df['label'].astype(int)"
   ]
  },
  {
   "cell_type": "code",
   "execution_count": 5,
   "metadata": {},
   "outputs": [
    {
     "name": "stdout",
     "output_type": "stream",
     "text": [
      "(3988, 2)\n",
      "(998, 2)\n",
      "                                                   text  label\n",
      "2415  Singer Aaron Carter, who has previously been f...      0\n",
      "3159  Nineteen years ago, a gay man and his straight...      0\n",
      "3009  The mother! of all relationships is over.  Jen...      1\n",
      "3612  The Republican war on women continues unabated...      1\n",
      "4518  As Taylor Swift calls out the haters on her ne...      0\n",
      "                                                   text  label\n",
      "1489  George Timothy Clooney (born May 6, 1961) is a...      1\n",
      "2755  Do you feel it in your fingers? Do you feel it...      0\n",
      "465   Advertisement  The royal family gathered this ...      0\n",
      "2489  Roger Ailes, Former Fox News CEO, Dies At 77  ...      0\n",
      "676   American serial child sexual abuser and physic...      0\n"
     ]
    }
   ],
   "source": [
    "# train validation split\n",
    "train_df, val_df = train_test_split(train_df, test_size=0.2, random_state=42)\n",
    "print(train_df.shape)\n",
    "print(val_df.shape)\n",
    "\n",
    "print(train_df.head())\n",
    "print(val_df.head())"
   ]
  },
  {
   "cell_type": "markdown",
   "metadata": {},
   "source": [
    "# Word2Vec"
   ]
  },
  {
   "cell_type": "code",
   "execution_count": 6,
   "metadata": {},
   "outputs": [
    {
     "name": "stdout",
     "output_type": "stream",
     "text": [
      "['Singer', 'Aaron', 'Carter,', 'who', 'has', 'previously', 'been', 'forthcoming', 'about', 'his', 'substance', 'abuse', 'and', 'eating', 'disorder,', 'is', 'now', 'opening', 'up', 'about', 'his', 'sexuality.', 'The', '29-year-old', 'brother', 'of', 'Backstreet', 'Boys', 'alum', 'Nick', 'Carter', 'tweeted', 'on', 'Saturday', 'night', 'a', 'long', 'open', 'letter', 'in', 'which', 'he', 'acknowledges', 'his', 'attraction', 'to', 'both', 'men', 'and', 'women', 'since', 'he', 'was', '13.', '\"There’s', 'something', 'I’d', 'like', 'to', 'say', 'that', 'I', 'feel', 'is', 'important', 'for', 'myself', 'and', 'my', 'identity', 'that', 'has', 'been', 'weighing', 'on', 'my', 'chest', 'for', 'nearly', 'half', 'of', 'my', 'life,\"', 'he', 'wrote.', '\"This', 'doesn’t', 'bring', 'me', 'shame,', 'just', 'a', 'weight', 'and', 'burden', 'I', 'have', 'held', 'onto', 'for', 'a', 'long', 'time', 'that', 'I', 'would', 'like', 'lifted', 'off', 'me.\"', 'He', 'explains,', '\"I', 'grew', 'up', 'in', 'this', 'entertainment', 'industry', 'at', 'a', 'very', 'young', 'age', 'and', 'when', 'I', 'was', 'around', '13', 'years', 'old', 'I', 'started', 'to', 'find', 'boys', 'and', 'girls', 'attractive.\"', 'He', 'then', 'reveals,', '\"There', 'were', 'years', 'that', 'went', 'by', 'that', 'I', 'thought', 'about,', 'but', 'it', 'wasn’t', 'until', 'I', 'was', '17', 'years', 'old,', 'after', 'a', 'few', 'relationships', 'with', 'girls,', 'I', 'had', 'an', 'experience', 'with', 'a', 'male', 'that', 'I', 'had', 'an', 'attraction', 'to', 'who', 'I', 'also', 'worked', 'with', 'and', 'grew', 'up', 'with.\"', 'Carter', 'continues,', '\"To', 'me', 'music', 'has', 'always', 'been', 'my', 'temple.', 'Music', 'will', 'ALWAYS', 'be', 'what', 'transcends', 'us', 'and', 'myself.', 'The', 'studio', 'has', 'always', 'been', 'my', 'safe', 'haven.', 'But', 'the', 'ultimate', 'goal', 'for', 'me', 'is', 'to', 'be', 'satisfied.', 'I', 'never', 'want', 'to', 'be', 'a', 'figure', 'of', 'disappointment.\"', 'A', 'Tampa,', 'Florida,', 'native,', 'he', 'ends', 'the', 'letter', 'with', 'a', 'quote', 'from', 'singer', 'Boy', 'George,', 'who', 'also', 'has', 'been', 'open', 'in', 'discussing', 'his', 'sexuality.', '\"The', 'best', 'quote', 'to', 'sum', \"'I've\", 'never', 'felt', 'as', 'though', 'I', \"didn't\", 'belong,', 'I', 'just', 'acted', 'as', 'though', 'I', \"did.'\", '—', 'Boy', 'George\"', \"Carter's\", 'tweet', 'follows', 'his', 'July', '15', 'arrest', 'in', 'Georgia', 'on', 'suspicion', 'of', 'driving', 'under', 'the', 'influence', 'and', 'marijuana', 'possession.', 'His', 'girlfriend,', 'Madison', 'Parker,', 'was', 'in', 'the', 'passenger', 'seat', 'of', 'the', 'car', 'and', 'was', 'also', 'taken', 'into', 'police', 'custody.', 'Carter', 'was', 'released', 'after', 'posting', 'bail', 'for', '$4,610.']\n",
      "['George', 'Timothy', 'Clooney', '(born', 'May', '6,', '1961)', 'is', 'an', 'American', 'actor,', 'director,', 'producer,', 'screenwriter,', 'and', 'businessman.', 'He', 'has', 'received', 'three', 'Golden', 'Globe', 'Awards', 'for', 'his', 'work', 'as', 'an', 'actor', 'and', 'two', 'Academy', 'Awards,', 'one', 'for', 'acting', 'in', 'Syriana', '(2006)', 'and', 'the', 'other', 'for', 'co-producing', 'Argo', '(2012).', 'Clooney', 'made', 'his', 'acting', 'debut', 'on', 'television', 'in', '1978,', 'and', 'later', 'gained', 'wide', 'recognition', 'in', 'his', 'role', 'as', 'Dr.', 'Doug', 'Ross', 'on', 'the', 'long-running', 'medical', 'drama', 'ER', 'from', '1994', 'to', '1999,', 'for', 'which', 'he', 'received', 'two', 'Primetime', 'Emmy', 'Award', 'nominations.', 'While', 'working', 'on', 'ER,', 'he', 'began', 'attracting', 'a', 'variety', 'of', 'leading', 'roles', 'in', 'films,', 'including', 'the', 'superhero', 'film', 'Batman', '&', 'Robin', '(1997)', 'and', 'the', 'crime', 'comedy', 'Out', 'of', 'Sight', '(1998),', 'in', 'which', 'he', 'first', 'worked', 'with', 'director', 'Steven', 'Soderbergh,', 'who', 'would', 'become', 'a', 'long-time', 'collaborator.', 'In', '1999,', 'he', 'took', 'the', 'lead', 'role', 'in', 'Three', 'Kings,', 'a', 'well-received', 'war', 'satire', 'set', 'during', 'the', 'Gulf', 'War.', 'In', '2001,', \"Clooney's\", 'fame', 'widened', 'with', 'the', 'release', 'of', 'his', 'biggest', 'commercial', 'success,', 'the', 'heist', 'comedy', 'remake', \"Ocean's\", 'Eleven,', 'the', 'first', 'of', 'what', 'became', 'a', 'trilogy', 'starring', 'Clooney.', 'He', 'made', 'his', 'directorial', 'debut', 'a', 'year', 'later', 'with', 'the', 'biographical', 'spy', 'comedy', 'Confessions', 'of', 'a', 'Dangerous', 'Mind,', 'and', 'has', 'since', 'directed', 'the', 'historical', 'drama', 'Good', 'Night,', 'and', 'Good', 'Luck', '(2005),', 'the', 'sports', 'comedy', 'Leatherheads', '(2008),', 'the', 'political', 'drama', 'The', 'Ides', 'of', 'March', '(2011),', 'and', 'the', 'war', 'film', 'The', 'Monuments', 'Men', '(2014).', 'Clooney', 'won', 'an', 'Academy', 'Award', 'for', 'Best', 'Supporting', 'Actor', 'for', 'the', 'Middle', 'East', 'thriller', 'Syriana', '(2005),', 'and', 'subsequently', 'earned', 'Best', 'Actor', 'nominations', 'for', 'the', 'legal', 'thriller', 'Michael', 'Clayton', '(2007)', 'and', 'the', 'comedy-dramas', 'Up', 'in', 'the', 'Air', '(2009)', 'and', 'The', 'Descendants', '(2011).', 'In', '2013,', 'he', 'received', 'the', 'Academy', 'Award', 'for', 'Best', 'Picture', 'for', 'producing', 'the', 'political', 'thriller', 'Argo.', 'He', 'is', 'the', 'only', 'person', 'who', 'has', 'been', 'nominated', 'for', 'Academy', 'Awards', 'in', 'six', 'different', 'categories.[3]', 'In', '2009,', 'Clooney', 'was', 'included', 'in', \"Time's\", 'annual', 'Time', '100', 'as', 'one', 'of', 'the', '\"Most', 'Influential', 'People', 'in', 'the', 'World\".[4]', 'He', 'is', 'also', 'noted', 'for', 'his', 'political', 'and', 'economic', 'activism,', 'and', 'has', 'served', 'as', 'one', 'of', 'the', 'United', 'Nations', 'Messengers', 'of', 'Peace', 'since', 'January', '31,', '2008.[5][6][7]', 'His', 'humanitarian', 'work', 'includes', 'his', 'advocacy', 'of', 'finding', 'a', 'resolution', 'for', 'the', 'Darfur', 'conflict,', 'raising', 'funds', 'for', 'the', '2010', 'Haiti', 'earthquake,', 'Armenian', 'Genocide', 'recognition,', '2004', 'tsunami,', '9/11', 'victims,', 'and', 'creating', 'documentaries', 'such', 'as', 'Sand', 'and', 'Sorrow', 'to', 'raise', 'awareness', 'about', 'international', 'crises.', 'Clooney', 'helped', 'fund', 'the', 'March', 'for', 'Our', 'Lives', 'after', 'the', 'Stoneman', 'Douglas', 'High', 'School', 'shooting', 'in', '2018.', 'He', 'is', 'also', 'a', 'member', 'of', 'the', 'Council', 'on', 'Foreign', 'Relations.[8]', 'In', '2013,', 'Clooney', 'co-founded', 'Casamigos', 'Tequila', 'with', 'Rande', 'Gerber', 'and', 'Michael', 'Meldman.[9]', 'It', 'was', 'sold', 'to', 'Diageo', 'for', '$700', 'million', 'in', 'June', '2017,', 'with', 'an', 'additional', '$300', 'million', 'possible', 'depending', 'on', 'the', \"company's\", 'performance', 'over', 'the', 'next', 'ten', 'years.[10]', 'According', 'to', 'Forbes', 'annual', 'ranking,', 'he', 'was', 'the', \"world's\", 'highest-paid', 'actor', 'for', '2017-2018,', 'scoring', 'a', 'career-high', 'pretax', 'paycheck', 'of', '$239', 'million', 'between', 'June', '1,', '2017', 'and', 'June', '1,', '2018.[11]', 'Since', 'September', '27,', '2014,', 'he', 'has', 'been', 'married', 'to', 'British', 'human', 'rights', 'lawyer', 'Amal', 'Clooney', '(née', 'Alamuddin).', 'Early', 'life', 'Clooney', 'was', 'born', 'on', 'May', '6,', '1961,', 'in', 'Lexington,', 'Kentucky.[12][13]', 'His', 'mother,', 'Nina', 'Bruce', '(née', 'Warren),[14]', 'was', 'a', 'beauty', 'queen', 'and', 'city', 'councilwoman.', 'His', 'father,', 'Nick', 'Clooney,', 'is', 'a', 'former', 'anchorman', 'and', 'television', 'host,', 'including', 'five', 'years', 'on', 'the', 'AMC', 'network.[15]', 'Clooney', 'has', 'Irish,', 'German,', 'and', 'English', 'ancestry.[16]', 'His', 'maternal', 'great-great-great-great-grandmother,', 'Mary', 'Ann', 'Sparrow,', 'was', 'the', 'half-sister', 'of', 'Nancy', 'Lincoln,', 'mother', 'of', 'President', 'Abraham', 'Lincoln.[17][18][19]', 'Clooney', 'has', 'an', 'older', 'sister', 'named', 'Adelia', '(known', 'as', 'Ada).[20]', 'Cabaret', 'singer', 'and', 'actress', 'Rosemary', 'Clooney', 'was', 'an', 'aunt.[12]', 'Through', 'Rosemary,', 'his', 'cousins', 'include', 'actors', 'Miguel', 'Ferrer,', 'Rafael', 'Ferrer,', 'and', 'Gabriel', 'Ferrer,', 'who', 'is', 'married', 'to', 'singer', 'Debby', 'Boone.[21]', 'Clooney', 'was', 'raised', 'a', 'strict', 'Roman', 'Catholic,[22]', 'but', 'said', 'in', '2006', 'that', 'he', 'did', 'not', 'know', 'if', 'he', 'believed', '\"in', 'Heaven,', 'or', 'even', 'God\".[23]', 'He', 'has', 'said,', '\"Yes,', 'we', 'were', 'Catholic,', 'big-time,', 'whole', 'family,', 'whole', 'group.\"[24]', 'He', 'began', 'his', 'education', 'at', 'the', 'Blessed', 'Sacrament', 'School', 'in', 'Fort', 'Mitchell,', 'Kentucky.', 'He', 'attended', 'St.', \"Michael's\", 'School', 'in', 'Columbus,', 'Ohio;', 'then', 'Western', 'Row', 'Elementary', 'School', '(a', 'public', 'school)', 'in', 'Mason,', 'Ohio,', 'from', '1968', 'to', '1974;', 'and', 'St.', 'Susanna', 'School', 'in', 'Mason,', 'where', 'he', 'served', 'as', 'an', 'altar', 'boy.', 'The', 'Clooneys', 'moved', 'back', 'to', 'Kentucky', 'when', 'George', 'was', 'midway', 'through', 'the', 'seventh', 'grade.[25]', 'In', 'middle', 'school,', 'Clooney', 'developed', \"Bell's\", 'palsy,', 'a', 'medical', 'condition', 'that', 'partially', 'paralyzes', 'the', 'face.', 'The', 'malady', 'went', 'away', 'within', 'a', 'year.', 'In', 'an', 'interview', 'with', 'Larry', 'King,', 'he', 'stated', 'that', '\"yes,', 'it', 'goes', 'away.', 'It', 'takes', 'about', 'nine', 'months', 'to', 'go', 'away.', 'It', 'was', 'the', 'first', 'year', 'of', 'high', 'school,', 'which', 'was', 'a', 'bad', 'time', 'for', 'having', 'half', 'your', 'face', 'paralyzed.\"[24]', 'He', 'also', 'described', 'one', 'positive', 'outcome', 'of', 'the', 'condition:', '\"It\\'s', 'probably', 'a', 'great', 'thing', 'that', 'it', 'happened', 'to', 'me', 'because', 'it', 'forced', 'me', 'to', 'engage', 'in', 'a', 'series', 'of', 'making', 'fun', 'of', 'myself.', 'And', 'I', 'think', \"that's\", 'an', 'important', 'part', 'of', 'being', 'famous.', 'The', 'practical', 'jokes', 'have', 'to', 'be', 'aimed', 'at', 'you.\"[26]', 'After', 'his', 'parents', 'moved', 'to', 'Augusta,', 'Kentucky,', 'Clooney', 'attended', 'Augusta', 'High', 'School.', 'He', 'has', 'stated', 'that', 'he', 'earned', 'all', 'As', 'and', 'a', 'B', 'in', 'school,[12]', 'and', 'played', 'baseball', 'and', 'basketball.', 'He', 'tried', 'out', 'to', 'play', 'professional', 'baseball', 'with', 'the', 'Cincinnati', 'Reds', 'in', '1977,', 'but', 'he', 'did', 'not', 'pass', 'the', 'first', 'round', 'of', 'player', 'cuts', 'and', 'was', 'not', 'offered', 'a', 'contract.[27]', 'He', 'attended', 'Northern', 'Kentucky', 'University', 'from', '1979', 'to', '1981,', 'majoring', 'in', 'broadcast', 'journalism,', 'and', 'very', 'briefly', 'attended', 'the', 'University', 'of', 'Cincinnati,', 'but', 'did', 'not', 'graduate', 'from', 'either.[28]', 'He', 'earned', 'money', 'selling', \"women's\", 'shoes,', 'insurance', 'door-to-door,', 'stocking', 'shelves,', 'working', 'in', 'construction,', 'and', 'cutting', 'tobacco.[23][29]', 'Career', 'Early', 'work,', '1978–1993', \"Clooney's\", 'first', 'role', 'was', 'as', 'an', 'extra', 'in', 'the', 'television', 'mini-series', 'Centennial', 'in', '1978,', 'which', 'was', 'based', 'on', 'the', 'novel', 'of', 'the', 'same', 'name', 'by', 'James', 'A.', 'Michener', 'and', 'was', 'partly', 'filmed', 'in', \"Clooney's\", 'hometown', 'of', 'Augusta,', 'Kentucky.[30][31]', \"Clooney's\", 'first', 'major', 'role', 'came', 'in', '1984', 'in', 'the', 'short-lived', 'sitcom', 'E/R', '(not', 'to', 'be', 'confused', 'with', 'ER,', 'the', 'better-known', 'hospital', 'drama,', 'on', 'which', 'Clooney', 'also', 'co-starred', 'a', 'decade', 'later).', 'He', 'played', 'a', 'handyman', 'on', 'the', 'series', 'The', 'Facts', 'of', 'Life', 'and', 'appeared', 'as', 'Bobby', 'Hopkins,', 'a', 'detective,', 'on', 'an', 'episode', 'of', 'The', 'Golden', 'Girls.', 'His', 'first', 'prominent', 'role', 'was', 'a', 'semi-regular', 'supporting', 'role', 'in', 'the', 'sitcom', 'Roseanne,', 'playing', 'Roseanne', \"Barr's\", 'supervisor', 'Booker', 'Brooks,', 'followed', 'by', 'the', 'role', 'of', 'a', 'construction', 'worker', 'on', 'Baby', 'Talk,', 'a', 'co-starring', 'role', 'on', 'the', 'CBS', 'drama', 'Bodies', 'of', 'Evidence', 'as', 'Detective', 'Ryan', 'Walker,', 'and', 'then', 'a', 'year-long', 'turn', 'as', 'Det.', 'James', 'Falconer', 'on', 'Sisters.', 'In', '1988,', 'Clooney', 'played', 'a', 'role', 'in', 'the', 'comedy-horror', 'film', 'Return', 'of', 'the', 'Killer', 'Tomatoes.[32]', 'In', '1990,', 'he', 'starred', 'in', 'the', 'short-lived', 'ABC', 'police', 'drama', 'Sunset', 'Beat.[33]', 'During', 'this', 'period,', 'Clooney', 'was', 'a', 'student', 'at', 'the', 'Beverly', 'Hills', 'Playhouse', 'acting', 'school', 'for', 'five', 'years.[34]', 'Breakthrough,', '1994–1999', 'Clooney', 'rose', 'to', 'fame', 'when', 'he', 'played', 'Dr.', 'Doug', 'Ross,', 'alongside', 'Anthony', 'Edwards,', 'Julianna', 'Margulies,', 'and', 'Noah', 'Wyle,', 'on', 'the', 'hit', 'NBC', 'medical', 'drama', 'ER', 'from', '1994', 'to', '1999.', 'After', 'leaving', 'the', 'series', 'in', '1999,', 'he', 'made', 'a', 'cameo', 'appearance', 'in', 'the', '6th', 'season', 'and', 'returned', 'for', 'a', 'guest', 'spot', 'in', 'the', \"show's\", 'final', 'season.[35]', 'For', 'his', 'work', 'on', 'the', 'series,', 'Clooney', 'received', 'two', 'Primetime', 'Emmy', 'Award', 'nominations', 'for', 'Outstanding', 'Lead', 'Actor', 'in', 'a', 'Drama', 'Series', 'in', '1995', 'and', '1996.[36][37]', 'He', 'also', 'earned', 'three', 'Golden', 'Globe', 'Award', 'nominations', 'for', 'Best', 'Actor', '–', 'Television', 'Series', 'Drama', 'in', '1995,', '1996,', 'and', '1997', '(losing', 'to', 'co-star', 'Anthony', 'Edwards).[38][39]', 'Clooney', 'began', 'appearing', 'in', 'films', 'while', 'working', 'on', 'ER.', 'His', 'first', 'major', 'Hollywood', 'role', 'was', 'in', 'the', 'horror', 'comedy-crime', 'thriller', 'From', 'Dusk', 'till', 'Dawn,', 'directed', 'by', 'Robert', 'Rodriguez', 'and', 'co-starring', 'Harvey', 'Keitel.', 'He', 'followed', 'its', 'success', 'with', 'the', 'romantic', 'comedy', 'One', 'Fine', 'Day', 'with', 'Michelle', 'Pfeiffer,', 'and', 'the', 'action-thriller', 'The', 'Peacemaker', 'with', 'Nicole', 'Kidman.', 'Clooney', 'was', 'then', 'cast', 'as', 'Batman', 'in', 'Joel', \"Schumacher's\", 'Batman', '&', 'Robin,', 'which', 'was', 'a', 'modest', 'box', 'office', 'performer,', 'but', 'a', 'critical', 'failure', '(with', 'Clooney', 'himself', 'calling', 'the', 'film', '\"a', 'waste', 'of', 'money\").[40]', 'In', '1998,', 'he', 'co-starred', 'in', 'the', 'crime-comedy', 'Out', 'of', 'Sight', 'opposite', 'Jennifer', 'Lopez,', 'marking', 'the', 'first', 'of', 'his', 'many', 'collaborations', 'with', 'director', 'Steven', 'Soderbergh.[41]', 'He', 'also', 'starred', 'in', 'Three', 'Kings', 'during', 'the', 'last', 'weeks', 'of', 'his', 'contract', 'with', 'ER.[42]', 'After', 'ER,', '2000–2010', 'After', 'leaving', 'ER,', 'Clooney', 'starred', 'in', 'the', 'commercially', 'successful', 'films', 'The', 'Perfect', 'Storm', '(2000),', 'a', 'disaster', 'drama;', 'and', 'O', 'Brother,', 'Where', 'Art', 'Thou?', '(2000),', 'a', 'Coen', 'brothers', 'adventure', 'comedy.', 'In', '2001,', 'he', 'teamed', 'up', 'with', 'Soderbergh', 'again', 'for', 'the', 'heist', 'comedy', \"Ocean's\", 'Eleven,', 'a', 'remake', 'of', 'the', '1960s', 'Rat', 'Pack', 'film', 'of', 'the', 'same', 'name,', 'with', 'Clooney', 'playing', 'Danny', 'Ocean,', 'originally', 'portrayed', 'by', 'Frank', 'Sinatra.', 'It', 'is', \"Clooney's\", 'most', 'successful', 'film', 'with', 'him', 'in', 'the', 'lead', 'role,', 'earning', '$451', 'million', 'worldwide', '(he', 'appeared,', 'but', 'did', 'not', 'star,', 'in', 'Gravity,', 'which', 'has', 'a', '$723', 'million', 'worldwide', 'box', 'office).[44][45]', 'The', 'film', 'inspired', 'two', 'sequels', 'starring', 'Clooney,', \"Ocean's\", 'Twelve', 'in', '2004[46]', 'and', \"Ocean's\", 'Thirteen', 'in', '2007.[47]', 'In', '2001,', 'Clooney', 'and', 'Soderbergh', 'co-founded', 'Section', 'Eight', 'Productions,', 'for', 'which', 'Grant', 'Heslov', 'was', 'president', 'of', 'television.', 'Clooney', 'made', 'his', 'directorial', 'debut', 'in', 'the', '2002', 'film', 'Confessions', 'of', 'a', 'Dangerous', 'Mind,', 'based', 'on', 'the', 'autobiography', 'of', 'TV', 'producer', 'Chuck', 'Barris.', 'Though', 'the', 'film', 'did', 'not', 'do', 'well', 'at', 'the', 'box', 'office,', 'critics', 'stated', 'that', \"Clooney's\", 'directing', 'showed', 'promise.[48]', 'In', '2005,', 'Clooney', 'starred', 'in', 'Syriana,', 'which', 'was', 'based', 'loosely', 'on', 'former', 'Central', 'Intelligence', 'Agency', 'agent', 'Robert', \"Baer's\", 'memoirs', 'of', 'his', 'service', 'in', 'the', 'Middle', 'East.', 'Clooney', 'suffered', 'an', 'accident', 'on', 'the', 'set', 'of', 'Syriana,', 'which', 'caused', 'a', 'brain', 'injury', 'with', 'complications', 'from', 'a', 'punctured', 'dura.[49]', 'The', 'same', 'year', 'he', 'directed,', 'produced,', 'and', 'starred', 'in', 'Good', 'Night,', 'and', 'Good', 'Luck,', 'a', 'film', 'about', '1950s', 'television', 'journalist', 'Edward', 'R.', \"Murrow's\", 'famous', 'war', 'of', 'words', 'with', 'Senator', 'Joseph', 'McCarthy.', 'At', 'the', '2006', 'Academy', 'Awards,', 'Clooney', 'was', 'nominated', 'for', 'Best', 'Director', 'and', 'Best', 'Original', 'Screenplay', 'for', 'Good', 'Night,', 'and', 'Good', 'Luck,', 'as', 'well', 'as', 'Best', 'Supporting', 'Actor', 'for', 'Syriana.', 'He', 'won', 'the', 'Oscar', 'for', 'his', 'role', 'in', 'Syriana.[50]', 'Clooney', 'next', 'appeared', 'in', 'The', 'Good', 'German', '(2006),', 'a', 'film', 'noir', 'directed', 'by', 'Soderbergh', 'that', 'is', 'set', 'in', 'post-World', 'War', 'II', 'Germany.', 'In', 'August', '2006,', 'Clooney', 'and', 'Heslov', 'started', 'the', 'production', 'company', 'Smokehouse', 'Pictures.', 'In', 'October', '2006,', 'Clooney', 'received', 'the', 'American', 'Cinematheque', 'Award,', 'which', 'honors', 'someone', 'in', 'the', 'entertainment', 'industry', 'who', 'has', 'made', '\"a', 'significant', 'contribution', 'to', 'the', 'art', 'of', 'motion', 'pictures\".[51]', 'On', 'January', '22,', '2008,', 'Clooney', 'was', 'nominated', 'for', 'an', 'Academy', 'Award', '(and', 'many', 'other', 'awards)', 'for', 'Best', 'Actor', 'for', 'Michael', 'Clayton', '(2007).', 'Later', 'that', 'year,', 'he', 'directed', 'his', 'third', 'film,', 'Leatherheads,', 'in', 'which', 'he', 'also', 'starred.', 'On', 'April', '4,', '2008,', 'Variety', 'reported', 'that', 'Clooney', 'had', 'quietly', 'resigned', 'from', 'the', 'Writers', 'Guild', 'of', 'America', 'over', 'a', 'dispute', 'concerning', 'Leatherheads.', 'Clooney,', 'who', 'is', 'the', 'director,', 'producer,', 'and', 'star', 'of', 'the', 'film,', 'claimed', 'that', 'he', 'had', 'contributed', 'in', 'writing', '\"all', 'but', 'two', 'scenes\"', 'of', 'it,', 'and', 'requested', 'a', 'writing', 'credit', 'alongside', 'Duncan', 'Brantley', 'and', 'Rick', 'Reilly,', 'who', 'had', 'worked', 'on', 'the', 'screenplay', 'for', '17', 'years.', 'Clooney', 'lost', 'an', 'arbitration', 'vote', '2–1,', 'and', 'withdrew', 'from', 'the', 'union', 'over', 'the', 'decision.', 'He', 'became', 'a', '\"financial', 'core', 'status\"', 'non-member,', 'meaning', 'he', 'no', 'longer', 'has', 'voting', 'rights,', 'and', 'cannot', 'run', 'for', 'office', 'or', 'attend', 'membership', 'meetings,', 'according', 'to', 'the', \"WGA's\", 'constitution.[52]', 'He', 'next', 'co-starred', 'with', 'Ewan', 'McGregor', 'and', 'Kevin', 'Spacey', 'in', 'the', 'war', 'parody', 'comedy', 'film', 'The', 'Men', 'Who', 'Stare', 'at', 'Goats,', 'which', 'was', 'directed', 'by', 'Heslov', 'and', 'released', 'in', 'November', '2009.', 'Also', 'in', 'November', '2009,', 'he', 'voiced', 'Mr.', 'Fox', 'in', 'Wes', \"Anderson's\", 'animated', 'feature', 'Fantastic', 'Mr.', 'Fox.', 'The', 'same', 'year,', 'Clooney', 'starred', 'in', 'the', 'comedy-drama', 'Up', 'in', 'the', 'Air,', 'which', 'was', 'initially', 'given', 'limited', 'release,', 'and', 'then', 'wide-released', 'on', 'December', '25,', '2009.', 'For', 'his', 'performance', 'in', 'the', 'film,', 'which', 'was', 'directed', 'by', 'Jason', 'Reitman,', 'he', 'was', 'nominated', 'for', 'a', 'Golden', 'Globe,', 'a', 'Screen', 'Actors', 'Guild', 'Award,', 'BAFTA,', 'and', 'an', 'Academy', 'Award.[53]', '2010', 'saw', 'the', 'release', 'of', 'The', 'American,', 'based', 'on', 'the', 'novel', 'A', 'Very', 'Private', 'Gentleman', 'by', 'Martin', 'Booth', 'and', 'directed', 'by', 'Anton', 'Corbijn.', 'Clooney', 'played', 'the', 'lead', 'role,', 'and', 'was', 'a', 'producer', 'of', 'the', 'film.[54]', '2011–present', 'As', 'of', '2011,', 'Clooney', 'is', 'represented', 'by', 'Bryan', 'Lourd,', 'co-chairman', 'of', 'Creative', 'Artists', 'Agency', '(CAA).[55]', 'In', '2011', 'Clooney', 'starred', 'in', 'The', 'Descendants', 'as', 'a', 'husband', 'whose', 'wife', 'has', 'an', 'accident', 'that', 'leaves', 'her', 'in', 'a', 'coma.', 'He', 'earned', 'critical', 'praise', 'for', 'his', 'work,', 'and', 'won', 'the', 'Broadcast', 'Film', 'Critics', 'Association', 'Award', 'for', 'Best', 'Actor', 'and', 'the', 'Golden', 'Globe', 'Award', 'for', 'Best', 'Actor', '–', 'Motion', 'Picture', 'Drama.', 'Also,', 'he', 'was', 'nominated', 'for', 'the', 'Screen', 'Actors', 'Guild', 'for', 'Best', 'Actor,', 'the', 'BAFTA', 'Award', 'for', 'Best', 'Actor,', 'and', 'the', 'Academy', 'Award', 'for', 'Best', 'Actor.', 'He', 'was', 'nominated', 'for', 'the', 'Academy', 'Award', 'for', 'Best', 'Adapted', 'Screenplay', 'for', 'the', 'political', 'drama', 'The', 'Ides', 'of', 'March.', 'In', '2013,', 'Clooney', 'won', 'the', 'Golden', 'Globe', 'for', 'Best', 'Motion', 'Picture', '-', 'Drama,', 'the', 'BAFTA', 'Award', 'for', 'Best', 'Picture', 'and', 'the', 'Academy', 'Award', 'for', 'Best', 'Picture', 'for', 'producing', 'Argo.', 'He', 'is', 'the', 'only', 'person', 'in', 'Academy', 'Award', 'history', 'to', 'be', 'nominated', 'for', 'Oscars', 'in', 'six', 'different', 'categories:', 'Best', 'Picture,', 'Best', 'Actor,', 'Best', 'Supporting', 'Actor,', 'Best', 'Director,', 'Best', 'Original', 'Screenplay', 'and', 'Best', 'Adapted', 'Screenplay.[56]', 'Clooney', 'co-starred', 'with', 'Sandra', 'Bullock', 'in', 'Gravity', '(2013),', 'a', 'space', 'thriller', 'directed', 'by', 'Alfonso', 'Cuarón.[57]', 'He', 'co-wrote,', 'directed', 'and', 'starred', 'in', 'The', 'Monuments', 'Men,', 'an', 'adaption', 'of', 'The', 'Monuments', 'Men:', 'Allied', 'Heroes,', 'Nazi', 'Thieves', 'and', 'the', 'Greatest', 'Treasure', 'Hunt', 'in', 'History', 'by', 'Robert', 'M.', 'Edsel.[58]', 'Clooney', 'also', 'produced', 'August:', 'Osage', 'County', '(2013),', 'an', 'adaptation', 'of', 'the', 'play', 'of', 'the', 'same', 'name.', 'The', 'film', 'stars', 'Meryl', 'Streep', 'and', 'Julia', 'Roberts.[59]', 'His', 'next', 'film', 'was', 'Tomorrowland', '(2015),', 'a', 'science', 'fiction', 'adventure', 'film', 'in', 'which', 'he', 'played', 'Frank', 'Walker,', 'an', 'inventor.[60]', 'Later', 'in', 'the', 'year,', 'he', 'was', 'featured', 'as', 'himself', 'in', 'the', 'Netflix', 'Christmas', 'musical', 'comedy', 'A', 'Very', 'Murray', 'Christmas,', 'starring', 'Bill', 'Murray.[61]', 'Hail,', 'Caesar!,', 'a', 'comedy', 'from', 'the', 'Coen', 'brothers', 'set', 'in', 'the', 'Hollywood', 'film', 'industry', 'in', 'the', '1950s,', 'premiered', 'in', 'February', '2016.', 'Clooney', 'portrayed', 'Baird', 'Whitlock,', 'a', 'Robert', 'Taylor-type', 'film', 'star', 'who', 'is', 'kidnapped', 'during', 'the', 'production', 'of', 'a', 'film.', 'Josh', 'Brolin', 'co-starred', 'as', 'fixer', 'Eddie', 'Mannix.[62]', 'Clooney', 'reunited', 'with', 'Julia', 'Roberts', 'for', 'the', 'Jodie', 'Foster-directed', 'thriller', 'Money', 'Monster', '(2016),', 'playing', 'the', 'host', 'of', 'a', 'television', 'show', 'that', 'investigates', 'conspiracies', 'on', 'commerce', 'and', 'Wall', 'Street,', 'who', 'is', 'taken', 'hostage', 'by', 'a', 'bankrupt', 'viewer', 'given', 'a', 'bad', 'tip.[63]', 'His', 'next', 'directorial', 'project', 'was', 'the', '1950s-set', 'crime', 'comedy', 'Suburbicon', '(2017),', 'starring', 'Matt', 'Damon,', 'Julianne', 'Moore,', 'and', 'Oscar', 'Isaac,', 'from', 'a', 'script', 'penned', 'by', 'the', 'Coen', 'brothers', 'in', 'the', '1980s,', 'that', 'they', 'had', 'originally', 'intended', 'to', 'direct', 'themselves.[64]', 'He', 'received', 'the', '2018', 'AFI', 'Life', 'Achievement', 'Award', 'on', 'June', '7,', '2018.[65]', 'Activism', 'and', 'public', 'advocacy', 'Political', 'views', 'Clooney', 'supported', 'President', \"Obama's\", 'campaigns', 'in', 'the', '2008[66]', 'and', '2012', 'presidential', 'elections.[67]', 'He', 'is', 'a', 'supporter', 'of', 'gay', 'rights.[68]', 'In', '2003,', 'he', 'opposed', 'the', 'Iraq', 'War,', 'saying,', '\"You', \"can't\", 'beat', 'your', 'enemy', 'anymore', 'through', 'wars;', 'instead', 'you', 'create', 'an', 'entire', 'generation', 'of', 'people', 'seeking', 'revenge...', 'Our', 'opponents', 'are', 'going', 'to', 'resort', 'to', 'car', 'bombs', 'and', 'suicide', 'attacks', 'because', 'they', 'have', 'no', 'other', 'way', 'to', 'win.', '...', 'I', 'believe', '[Donald', 'Rumsfeld]', 'thinks', 'this', 'is', 'a', 'war', 'that', 'can', 'be', 'won,', 'but', 'there', 'is', 'no', 'such', 'thing', 'anymore.', 'We', \"can't\", 'beat', 'anyone', 'anymore.\"[69]', 'In', '2016,', 'Clooney', 'endorsed', 'Hillary', 'Clinton', 'for', 'the', '2016', 'presidential', 'election.[70]', 'Humanitarian', 'work', 'Clooney', 'in', 'Abéché', ',', 'Chad,', 'in', 'January', '2008', 'with', 'the', 'UN', 'Clooney', 'is', 'involved', 'with', 'Not', 'On', 'Our', 'Watch', 'Project,', 'an', 'organization', 'that', 'focuses', 'global', 'attention', 'and', 'resources', 'to', 'stop', 'and', 'prevent', 'mass', 'atrocities,', 'along', 'with', 'Brad', 'Pitt,', 'Matt', 'Damon,', 'Don', 'Cheadle,', 'David', 'Pressman,', 'and', 'Jerry', 'Weintraub.[71]', 'In', 'February', '2009,', 'he', 'visited', 'Goz', 'Beida,', 'Chad,', 'with', 'New', 'York', 'Times', 'columnist', 'Nicholas', 'D.', 'Kristof.[72]', 'In', 'January', '2010,', 'he', 'organized', 'the', 'telethon', 'Hope', 'for', 'Haiti', 'Now,[73]', 'which', 'collected', 'donations', 'for', 'the', '2010', 'Haiti', 'earthquake', 'victims.[74]', 'In', 'March', '2012,', 'Clooney', 'was', 'featured', 'with', 'Martin', 'Sheen', 'and', 'Brad', 'Pitt', 'in', 'a', 'performance', 'of', 'Dustin', 'Lance', \"Black's\", 'play,', \"'8'—a\", 'staged', 'reenactment', 'of', 'the', 'federal', 'trial', 'that', 'overturned', \"California's\", 'Prop', '8', 'ban', 'on', 'same-sex', 'marriage—as', 'attorney', 'David', 'Boies.[75]', 'The', 'production', 'was', 'held', 'at', 'the', 'Wilshire', 'Ebell', 'Theatre', 'and', 'broadcast', 'on', 'YouTube', 'to', 'raise', 'money', 'for', 'the', 'American', 'Foundation', 'for', 'Equal', 'Rights.[76][77]', 'In', 'September', '2012,', 'Clooney', 'offered', 'to', 'take', 'an', 'auction', 'winner', 'out', 'to', 'lunch', 'to', 'benefit', 'the', 'Gay,', 'Lesbian', 'and', 'Straight', 'Education', 'Network', '(GLSEN).', 'GLSEN', 'works', 'to', 'create', 'a', 'safe', 'space', 'in', 'schools', 'for', 'children', 'who', 'are', 'or', 'may', 'be', 'perceived', 'to', 'be', 'gay,', 'lesbian,', 'bisexual', 'or', 'transgender.[78]', 'Darfur', 'Clooney', 'discusses', 'Sudan', 'with', 'President', 'Barack', 'Obama', 'at', 'the', 'White', 'House', 'in', 'October', '2010.', 'Clooney', 'has', 'advocated', 'a', 'resolution', 'of', 'the', 'Darfur', 'conflict.[79]', 'He', 'spoke', 'at', 'a', '2006', 'Save', 'Darfur', 'rally', 'in', 'Washington,', 'D.C.', 'In', 'April', '2006,', 'he', 'spent', 'ten', 'days', 'in', 'Chad', 'and', 'Sudan', 'with', 'his', 'father', 'to', 'make', 'the', 'TV', 'special', '\"A', 'Journey', 'to', 'Darfur\"', 'reflecting', 'the', 'situation', 'of', \"Darfur's\", 'refugees,', 'and', 'advocated', 'for', 'action.', 'The', 'documentary', 'was', 'broadcast', 'on', 'American', 'cable', 'TV', 'as', 'well', 'as', 'in', 'the', 'UK', 'and', 'France.', 'In', '2008,', 'it', 'was', 'released', 'on', 'DVD', 'with', 'the', 'sale', 'proceeds', 'being', 'donated', 'to', 'the', 'International', 'Rescue', 'Committee.[80][81][82][83]', 'In', 'September', 'of', 'the', 'same', 'year,', 'he', 'spoke', 'to', 'the', 'UN', 'Security', 'Council', 'with', 'Nobel', 'Prize-winner', 'Elie', 'Wiesel', 'to', 'ask', 'the', 'UN', 'to', 'find', 'a', 'solution', 'to', 'the', 'conflict', 'and', 'to', 'help', 'the', 'people', 'of', 'Darfur.[84]', 'In', 'December,', 'he', 'visited', 'China', 'and', 'Egypt', 'with', 'Don', 'Cheadle', 'and', 'two', 'Olympic', 'winners', 'to', 'ask', 'both', 'governments', 'to', 'pressure', \"Sudan's\", 'government.[85]', 'On', 'March', '25,', '2007,', 'he', 'sent', 'an', 'open', 'letter', 'to', 'German', 'Chancellor', 'Angela', 'Merkel,', 'calling', 'on', 'the', 'European', 'Union', 'to', 'take', '\"decisive', 'action\"', 'in', 'the', 'region', 'given', 'the', 'failure', 'of', 'Sudan', 'President', 'Omar', 'al-Bashir', 'to', 'respond', 'to', 'UN', 'resolutions.[86]', 'He', 'narrated', 'and', 'was', 'co-executive', 'producer', 'of', 'the', '2007', 'documentary', 'Sand', 'and', 'Sorrow.[87]', 'Clooney', 'also', 'appeared', 'in', 'the', 'documentary', 'film', 'Darfur', 'Now,', 'a', 'call-to-action', 'film', 'released', 'in', 'November', '2007', 'for', 'people', 'all', 'over', 'the', 'world', 'to', 'help', 'stop', 'the', 'Darfur', 'crisis.[88]', 'In', 'December', '2007,', 'Clooney', 'and', 'fellow', 'actor', 'Don', 'Cheadle', 'received', 'the', 'Summit', 'Peace', 'Award', 'from', 'the', 'Nobel', 'Peace', 'Prize', 'Laureates', 'in', 'Rome.', 'In', 'his', 'acceptance', 'speech,', 'Clooney', 'said', 'that', '\"Don', 'and', 'I', '...', 'stand', 'here', 'before', 'you', 'as', 'failures.', 'The', 'simple', 'truth', 'is', 'that', 'when', 'it', 'comes', 'to', 'the', 'atrocities', 'in', 'Darfur', '...', 'those', 'people', 'are', 'not', 'better', 'off', 'now', 'than', 'they', 'were', 'years', 'ago.\"[89]', 'On', 'January', '18,', '2008,', 'the', 'United', 'Nations', 'announced', \"Clooney's\", 'appointment', 'as', 'a', 'UN', 'messenger', 'of', 'peace,', 'effective', 'January', '31.[5][6]', 'Clooney', 'conceived', 'of', 'and,', 'with', 'John', 'Prendergast', '–', 'human', 'rights', 'activist,', 'co-founder', 'of', 'the', 'Enough', 'Project,', 'and', 'Strategic', 'Advisor', 'for', 'Not', 'on', 'Our', 'Watch', 'Project', '–', 'initiated', 'the', 'Satellite', 'Sentinel', 'Project', '(SSP),', 'after', 'an', 'October', '2010', 'trip', 'to', 'South', 'Sudan.', 'SSP', 'aims', 'to', 'monitor', 'armed', 'activity', 'for', 'signs', 'of', 'renewed', 'civil', 'war', 'between', 'Sudan', 'and', 'South', 'Sudan,', 'and', 'to', 'detect', 'and', 'deter', 'mass', 'atrocities', 'along', 'the', 'border', 'regions', 'there.[90]', 'Clooney', 'and', 'John', 'Prendergast', 'co-wrote', 'a', 'Washington', 'Post', 'op-ed', 'piece', 'in', 'May', '2011,', 'titled', '\"Dancing', 'with', 'a', 'dictator', 'in', 'Sudan\",', 'arguing', 'that:', 'President', 'Omar', 'al-Bashir', 'has', 'been', 'indicted', 'by', 'the', 'International', 'Criminal', 'Court', 'for', 'genocide,', 'is', 'escalating', 'bombing', 'and', 'food', 'aid', 'obstruction', 'in', 'Darfur,', 'and', 'he', 'now', 'threatens', 'the', 'entire', 'north-south', 'peace', 'process', '...', 'the', 'evidence', 'shows', 'that', 'incentives', 'alone', 'are', 'insufficient', 'to', 'change', \"Khartoum's\", 'calculations.', 'International', 'support', 'should', 'be', 'sought', 'immediately', 'for', 'denying', 'debt', 'relief,', 'expanding', 'the', 'ICC', 'indictments,', 'diplomatically', 'isolating', 'the', 'regime,', 'suspending', 'all', 'non-humanitarian', 'aid,', 'obstructing', 'state-controlled', 'bank', 'transactions', 'and', 'freezing', 'accounts', 'holding', 'oil', 'wealth', 'diverted', 'by', 'senior', 'regime', 'officials.[91]', 'On', 'March', '16,', '2012,', 'Clooney', 'was', 'arrested', 'outside', 'the', 'Sudanese', 'Embassy', 'for', 'civil', 'disobedience.[92][93]', 'He', 'intended', 'to', 'be', 'arrested', 'when', 'he', 'planned', 'the', 'protest.[93]', 'Several', 'other', 'prominent', 'participants', 'were', 'also', 'arrested,', 'including', 'Martin', 'Luther', 'King', 'III.[93]', 'Clooney', 'has', 'been', 'described', 'as', 'one', 'of', 'the', 'most', 'strident', 'critics', 'of', 'Omar', 'al-Bashir.[94]', 'Armenian', 'Genocide', 'George', 'Clooney', 'is', 'a', 'keen', 'supporter', 'of', 'the', 'recognition', 'of', 'the', 'Armenian', 'Genocide.', 'He', 'is', 'one', 'of', 'the', 'chief', 'associates', 'of', 'the', '100', 'Lives', 'Initiative,', 'a', 'project', 'which', 'aims', 'to', 'remember', 'the', 'lives', 'lost', 'during', 'the', 'event.[95]', 'As', 'part', 'of', 'the', 'initiative,', 'Clooney', 'launched', 'the', 'Aurora', 'Prize,', 'which', 'awards', 'to', 'those', 'who', 'risk', 'their', 'lives', 'to', 'prevent', 'genocides', 'and', 'atrocities.[95][96]', 'Clooney', 'had', 'also', 'urged', 'various', 'American', 'government', 'officials', 'to', 'support', 'the', 'United', \"States'\", 'recognition', 'of', 'the', 'Armenian', 'Genocide.[96]', 'Clooney', 'visited', 'Armenia', 'to', 'commemorate', 'the', '101st', 'anniversary', 'of', 'the', 'event', 'in', 'April', '2016.[97]', 'Syria', 'In', 'May', '2015,', 'Clooney', 'told', 'the', 'BBC', 'that', 'the', 'Syrian', 'conflict', 'was', 'too', 'complicated', 'politically', 'to', 'get', 'involved', 'in', 'and', 'he', 'wanted', 'to', 'focus', 'on', 'helping', 'the', 'refugees.[98]', 'In', 'March', '2016,', 'he', 'and', 'his', 'wife,', 'Amal', 'Clooney,', 'met', 'with', 'Syrian', 'refugees', 'living', 'in', 'Berlin', 'to', 'mark', 'the', 'fifth', 'anniversary', 'of', 'the', 'conflict,', 'before', 'meeting', 'with', 'German', 'Chancellor', 'Angela', 'Merkel', 'to', 'thank', 'her', 'for', 'her', \"Germany's\", 'open-door', 'policy.[99]', 'Gun', 'control', 'In', '2018,', 'following', 'the', 'Stoneman', 'Douglas', 'High', 'School', 'shooting,', 'the', 'Clooneys', 'pledged', '$500,000', 'to', 'the', 'March', 'for', 'Our', 'Lives', 'and', 'said', 'they', 'would', 'be', 'in', 'attendance.[100]', 'Personal', 'life', 'Relationships', 'Clooney', 'married', 'actress', 'Talia', 'Balsam', 'in', '1989;', 'they', 'divorced', 'in', '1993.[101]', 'Clooney', 'and', 'Alamuddin', 'at', 'the', '66th', 'Berlin', 'International', 'Film', 'Festival', 'in', '2016', 'Clooney', 'became', 'engaged', 'to', 'British-Lebanese', 'human', 'rights', 'lawyer', 'Amal', 'Alamuddin', 'on', 'April', '28,', '2014.[102][103]', 'In', 'July', '2014,', 'Clooney', 'publicly', 'criticized', 'the', 'British', 'tabloid', 'newspaper', 'the', 'Daily', 'Mail', 'after', 'it', 'claimed', 'his', \"fiancée's\", 'mother', 'opposes', 'their', 'marriage', 'on', 'religious', 'grounds.[104]', 'When', 'the', 'tabloid', 'apologized', 'for', 'its', 'false', 'story,', 'Clooney', 'refused', 'to', 'accept', 'the', 'apology.', 'He', 'called', 'the', 'paper', '\"the', 'worst', 'kind', 'of', 'tabloid.', 'One', 'that', 'makes', 'up', 'its', 'facts', 'to', 'the', 'detriment', 'of', 'its', 'readers.\"[105]', 'On', 'August', '7,', '2014,', 'Clooney', 'and', 'Alamuddin', 'obtained', 'marriage', 'licenses', 'at', 'the', 'Royal', 'Borough', 'of', 'Kensington', 'and', 'Chelsea', 'of', 'the', 'United', 'Kingdom.[106]', 'Alamuddin', 'and', 'Clooney', 'were', 'officially', 'married', 'on', 'September', '27,', '2014,', 'at', \"Ca'\", 'Farsetti.[107]', 'They', 'were', 'married', 'by', \"Clooney's\", 'friend', 'Walter', 'Veltroni,', 'the', 'former', 'mayor', 'of', 'Rome.[108]', 'In', '2015,', 'Clooney', 'and', 'Alamuddin', 'adopted', 'a', 'rescue', 'dog,', 'a', 'bassett', 'hound', 'named', 'Millie,', 'from', 'the', 'San', 'Gabriel', 'Valley', 'Humane', 'Society.[109]', 'On', 'February', '9,', '2017,', 'it', 'was', 'reported', 'by', 'the', 'CBS', 'talk', 'show,', 'The', 'Talk,', 'that', 'Amal', 'was', 'pregnant,', 'and', 'that', 'they', 'were', 'expecting', 'twins.[110]', 'On', 'June', '6,', '2017,', 'Amal', 'gave', 'birth', 'to', 'a', 'daughter,', 'Ella,', 'and', 'a', 'son,', 'Alexander.[111]', 'Real', 'estate', \"Clooney's\", 'main', 'home', 'is', 'in', 'Los', 'Angeles.', 'He', 'purchased', 'the', '7,354-square-foot', '(683.2', 'm2)', 'house', 'in', '1995', 'through', 'his', 'George', 'Guilfoyle', 'Trust.', 'His', 'home', 'in', 'Italy', 'is', 'in', 'the', 'village', 'of', 'Laglio,', 'on', 'Lake', 'Como,[112]', 'near', 'the', 'former', 'residence', 'of', 'Italian', 'author', 'Ada', 'Negri.[113]', 'Clooney', 'also', 'maintains', 'a', 'home', 'in', 'Los', 'Cabos,', 'Mexico,', 'that', 'is', 'next', 'door', 'to', 'the', 'home', 'of', 'Cindy', 'Crawford', 'and', 'Rande', 'Gerber.[114]', 'In', '2014,', 'Clooney', 'and', 'his', 'new', 'British', 'wife', 'Amal', 'Alamuddin', 'bought', 'the', 'Grade', 'II', 'listed[115]', 'Mill', 'House', 'on', 'an', 'island', 'in', 'the', 'River', 'Thames', 'at', 'Sonning', 'Eye', 'in', 'Oxfordshire,', 'England[116]', 'at', 'a', 'cost', 'of', 'around', '£10', 'million.[117]', 'Motorcycle', 'accidents', 'On', 'September', '21,', '2007,', 'Clooney', 'and', 'then-girlfriend', 'Sarah', 'Larson', 'were', 'injured', 'in', 'a', 'motorcycle', 'accident', 'in', 'Weehawken,', 'New', 'Jersey,', 'when', 'his', 'motorcycle', 'was', 'hit', 'by', 'a', 'car.', 'The', 'driver', 'of', 'the', 'car', 'reported', 'that', 'Clooney', 'attempted', 'to', 'pass', 'him', 'on', 'the', 'right,[118]', 'while', 'Clooney', 'said', 'that', 'the', 'driver', 'signaled', 'left', 'and', 'then', 'decided', 'to', 'make', 'an', 'abrupt', 'right', 'turn', 'and', 'clipped', 'his', 'motorcycle.', 'On', 'October', '9,', '2007,', 'more', 'than', 'two', 'dozen', 'staff', 'at', 'Palisades', 'Medical', 'Center', 'were', 'suspended', 'without', 'pay', 'for', 'looking', 'at', \"Clooney's\", 'medical', 'records', 'in', 'violation', 'of', 'federal', 'law.[119]', 'On', 'July', '10,', '2018,', 'Clooney', 'was', 'hit', 'by', 'a', 'car', 'while', 'riding', 'a', 'motorcycle', 'to', 'film', 'set', 'in', 'Sardinia.', 'He', 'was', 'hospitalised', 'with', 'minor,', 'non-life', 'threatening', 'injuries.[120][121]', 'Sports', 'Growing', 'up', 'around', 'Cincinnati,', 'Clooney', 'is', 'a', 'fan', 'of', 'the', 'Cincinnati', 'Bengals', 'and', 'Cincinnati', 'Reds.[122]', 'He', 'tried', 'out', 'to', 'be', 'a', 'Red', 'in', '1977.[123]', 'In', 'the', 'media', 'Clooney', 'has', 'appeared', 'in', 'commercials', 'outside', 'the', 'U.S.', 'for', 'Fiat,', 'Nespresso,', 'Martini', 'vermouth,', 'and', 'Omega.[124][125][126][127]', 'Clooney', 'was', 'named', 'one', 'of', 'Time', \"magazine's\", '100', 'Most', 'Influential', 'People', 'in', 'the', 'World', 'in', '2007,', '2008,', 'and', '2009.[128][129][130]', 'He', 'is', 'sometimes', 'described', 'as', 'one', 'of', 'the', 'most', 'handsome', 'men', 'in', 'the', 'world.[131][132]', 'In', '2005,', 'TV', 'Guide', 'ranked', 'Clooney', 'No.', '1', 'on', 'its', '\"50', 'Sexiest', 'Stars', 'of', 'All', 'Time\"', 'list.[133]', 'He', 'was', 'parodied', 'in', 'the', 'South', 'Park', 'episode', '\"Smug', 'Alert!\",', 'which', 'mocks', 'his', 'acceptance', 'speech', 'at', 'the', '78th', 'Academy', 'Awards.', 'However,', 'Clooney', 'has', 'also', 'lent', 'his', 'voice', 'to', 'South', 'Park', 'as', 'Sparky', 'the', 'Dog', 'in', '\"Big', 'Gay', \"Al's\", 'Big', 'Gay', 'Boat', 'Ride\"', 'and', 'as', 'the', 'emergency', 'room', 'doctor', 'in', 'South', 'Park:', 'Bigger,', 'Longer', '&', 'Uncut.', 'Clooney', 'was', 'caricatured', 'in', 'the', 'American', 'Dad!', 'episode', '\"Tears', 'of', 'a', 'Clooney\",', 'in', 'which', 'Francine', 'Smith', 'plans', 'to', 'destroy', 'him.[134]', 'Director', 'Alexander', 'Cartio', 'made', 'his', 'debut', 'feature', 'film,', 'Convincing', 'Clooney,', 'about', 'a', 'Los', 'Angeles', 'artist', 'who,', 'faced', 'with', 'rejection', 'as', 'an', 'actor', 'and', 'screenwriter,', 'arrives', 'at', 'a', 'master', 'plan', 'trying', 'to', 'get', 'Clooney', 'to', 'star', 'in', 'his', 'first-ever', 'low-budget', 'short', 'film.', 'The', 'movie', 'was', 'released', 'on', 'DVD', 'in', 'November', '2011.[135]', 'Awards', 'and', 'nominations', 'Throughout', 'his', 'career,', 'Clooney', 'has', 'won', 'two', 'Academy', 'Awards,', 'one', 'for', 'Best', 'Supporting', 'Actor', 'for', 'his', 'role', 'in', 'Syriana[136]', 'and', 'one', 'for', 'Best', 'Picture', 'as', 'one', 'of', 'the', 'producers', 'for', 'Argo,', 'as', 'well', 'as', 'a', 'BAFTA', 'and', 'a', 'Golden', 'Globe.', 'For', 'his', 'role', 'in', 'The', 'Descendants,', 'he', 'won', 'a', 'Golden', 'Globe', 'Award[137]', 'and', 'was', 'nominated', 'for', 'an', 'Academy', 'Award,', 'BAFTA', 'Award,', 'Satellite', 'Award,', 'and', 'two', 'Screen', 'Actors', 'Guild', 'Awards:', 'Best', 'Lead', 'Actor', 'and', 'Best', 'Cast.[138]', 'On', 'January', '11,', '2015,', 'Clooney', 'was', 'awarded', 'the', 'Golden', 'Globe', 'Cecil', 'B.', 'DeMille', 'Lifetime', 'Achievement', 'Award.', 'Filmography']\n",
      "['The', '2017', 'Teen', 'Choice', 'Awards', 'ceremony', 'was', 'held', 'on', 'August', '13,', '2017.[1]', 'The', 'awards', 'celebrated', 'the', \"year's\", 'achievements', 'in', 'music,', 'film,', 'television,', 'sports,', 'fashion,', 'comedy,', 'and', 'the', 'Internet,', 'and', 'were', 'voted', 'on', 'by', 'viewers', 'living', 'in', 'the', 'USA,', 'aged', '13', 'and', 'over', 'through', 'various', 'social', 'media', 'sites.[2]', 'A', 'three', 'hour', 'musical', 'festival', 'called', '\"Teen', 'Fest\"', 'and', 'hosted', 'by', 'Jake', 'Paul', 'was', 'streamed', 'exclusively', 'on', 'YouTube', 'with', 'some', 'of', 'the', 'event', 'appearing', 'during', 'the', 'Teen', 'Choice', 'broadcast.[3]', 'Maroon', '5', 'received', 'the', 'inaugural', 'Decade', 'Award.[4]', 'Throughout', 'the', 'show,', 'several', 'celebrities,', 'including', 'Vanessa', 'Hudgens,', 'Zendaya', 'and', 'Lauren', 'Jauregui', 'addressed', 'the', 'aftermath', 'of', 'the', '2017', 'Unite', 'the', 'Right', 'rally', 'and', 'encouraged', 'teens', 'to', 'speak', 'out', 'against', 'violence', 'and', 'hate.', 'This', 'is', 'the', 'first', 'ceremony', 'since', '2002', 'to', 'not', 'include', 'a', 'host.', 'Performers', '[', 'edit', ']', 'Presenters', '[', 'edit', ']', 'Winners', 'and', 'nominees', '[', 'edit', ']', 'The', 'first', 'wave', 'of', 'nominations', 'were', 'announced', 'on', 'June', '19,', '2017.[8]', 'The', 'second', 'wave', 'was', 'announced', 'on', 'July', '12,', '2017.[9]', 'Winners', 'are', 'listed', 'first,', 'in', 'bold.[10]', 'Movies', '[', 'edit', ']', 'Television', '[', 'edit', ']', 'Movies', '&', 'Television', '[', 'edit', ']', 'Music', '[', 'edit', ']', 'Digital', '[', 'edit', ']', 'Fashion', '[', 'edit', ']', 'Sports', '[', 'edit', ']', 'Miscellaneous', '[', 'edit', ']']\n"
     ]
    }
   ],
   "source": [
    "# 把句子分成單字\n",
    "train_sentences = [sentence.split() for sentence in train_df['text']]\n",
    "val_sentences = [sentence.split() for sentence in val_df['text']]\n",
    "test_sentences = [sentence.split() for sentence in test_df['text']]\n",
    "\n",
    "print(train_sentences[0])\n",
    "print(val_sentences[0])\n",
    "print(test_sentences[0])"
   ]
  },
  {
   "cell_type": "code",
   "execution_count": 7,
   "metadata": {},
   "outputs": [
    {
     "data": {
      "text/plain": [
       "(21615697, 26397440)"
      ]
     },
     "execution_count": 7,
     "metadata": {},
     "output_type": "execute_result"
    }
   ],
   "source": [
    "# 訓練word2vec模型\n",
    "word2vec_model = Word2Vec(train_sentences, vector_size=100, window=5, min_count=1, workers=4)\n",
    "word2vec_model.train(train_sentences, total_examples=len(train_sentences), epochs=10)"
   ]
  },
  {
   "cell_type": "code",
   "execution_count": 8,
   "metadata": {},
   "outputs": [],
   "source": [
    "# 把句子轉換成向量\n",
    "def sentence_to_vector(sentence, model):\n",
    "    words = sentence.split()\n",
    "    vector = np.mean([model.wv[word] for word in words if word in model.wv], axis=0)\n",
    "    return vector"
   ]
  },
  {
   "cell_type": "code",
   "execution_count": 9,
   "metadata": {},
   "outputs": [
    {
     "name": "stdout",
     "output_type": "stream",
     "text": [
      "[ 0.35088202 -0.29509535 -0.5618353  -1.3412067   1.1911632   0.07781454\n",
      "  0.5047654   0.36611196 -1.1751217  -1.1126319   0.18229185 -0.5232262\n",
      "  0.35012913  0.20127165  0.47247872  0.4306528   0.6133306  -0.08717418\n",
      "  0.6590974  -1.1371609   0.40045935  0.02766516  0.23296683  0.09252621\n",
      " -1.5692799   0.30900177 -0.35449332  0.05814846  0.1777359  -0.8193022\n",
      " -1.3566234  -0.19416773  1.1533852  -0.29473552  0.23983485 -1.3387115\n",
      "  0.0182434  -0.03306995 -0.21799798 -0.07500646  0.43992034  0.16314623\n",
      " -0.45600447 -0.20230165 -0.32542163  0.43894076  0.53585833  0.72273946\n",
      " -0.16965775  0.3108655   0.30317724  0.15120286  0.6302182   0.23104557\n",
      "  0.6564047   0.07569491  0.02747363  1.5145037   0.6233521  -0.37034655\n",
      " -0.32526258  0.58198303 -0.77887326  0.45506787 -0.5885206  -0.10961789\n",
      "  0.49023247  0.5969614   0.82236403  0.20018351  0.01071951 -0.7073056\n",
      " -0.19569285 -0.01543058 -0.25014985 -0.88514036 -0.03991383  0.61903054\n",
      "  0.8767525  -0.69850886 -0.6301532   0.13939852  0.40377647 -0.26102638\n",
      " -0.37686837  0.09419639  0.73720074  0.42954376  0.5992033  -0.98088795\n",
      " -0.11886104 -0.08902457 -0.24316673  0.29136473  0.16290396 -0.04731669\n",
      " -0.5093028   0.25555098 -0.8667353  -1.4193938 ]\n",
      "[-7.78113827e-02 -3.18448693e-01 -1.26019195e-01 -4.55443531e-01\n",
      "  6.82240665e-01 -4.68768388e-01  5.21204233e-01  7.02591717e-01\n",
      " -1.23952830e+00 -8.53788674e-01  1.02422245e-01 -1.53654560e-01\n",
      "  1.96087405e-01 -1.52367845e-01  2.66821861e-01 -1.10388706e-02\n",
      "  2.10757047e-01 -4.00425225e-01  8.66692007e-01 -1.37053668e+00\n",
      "  2.33381048e-01 -4.52790141e-01  7.96982944e-01 -1.45551994e-01\n",
      " -1.20504105e+00 -5.13150930e-01 -1.62315741e-01  3.77644449e-01\n",
      " -1.35705829e-01 -5.84878922e-01 -6.30049586e-01 -8.39768872e-02\n",
      "  6.88431323e-01 -4.12438154e-01  9.13334846e-01 -4.01246518e-01\n",
      " -4.95977029e-02 -2.99170136e-01 -5.83353460e-01  4.53709774e-02\n",
      " -2.08103925e-01  1.53249189e-01 -6.27133131e-01 -1.21352680e-01\n",
      " -3.18175852e-01  1.18263341e-01  4.48842853e-01  3.79065216e-01\n",
      " -9.59170684e-02 -1.61594704e-01 -1.57561064e-01  2.03030616e-01\n",
      "  1.77537709e-01  1.74663246e-01  3.16584229e-01  2.13837951e-01\n",
      " -6.08075149e-02  1.00358391e+00  1.99189633e-01 -6.19188666e-01\n",
      "  1.60578564e-01  5.32513380e-01  1.07632183e-01  3.66294116e-01\n",
      " -4.66677308e-01 -3.32209498e-01  1.76042080e-01  6.10687196e-01\n",
      "  8.23629022e-01 -3.32858562e-01  2.55479179e-02 -4.72885996e-01\n",
      " -3.14536572e-01  2.17158541e-01  2.13357389e-01 -8.54859054e-01\n",
      " -3.45711827e-01  6.56967640e-01  6.03306174e-01 -7.26418674e-01\n",
      " -7.78346539e-01  2.94242263e-01  3.61988902e-01 -1.11176349e-01\n",
      " -6.68656707e-01  1.26262039e-01  9.49252069e-01  2.59538472e-01\n",
      "  5.27797520e-01 -6.24671161e-01 -1.11907325e-03  1.43441752e-01\n",
      " -1.06575884e-01 -5.20103335e-01  4.96453196e-01  2.80975729e-01\n",
      " -1.04508758e-01 -8.06027472e-01 -4.99128968e-01 -1.22303867e+00]\n",
      "[ 0.33216715 -1.0704165  -0.30237508  0.6380588  -0.00896132 -1.2683609\n",
      "  0.2826667   0.21744068 -1.9048371  -0.7955242  -0.6048601  -0.28697607\n",
      "  0.6117237   0.74030375  0.47272232 -0.16773002 -0.26359203 -0.5275119\n",
      "  0.5933951  -1.738954    0.83723456 -0.77408385  1.2667838  -0.66969395\n",
      " -0.88503355 -1.0464426  -0.50273436  0.5715615  -0.517245   -0.77597547\n",
      "  0.11759471 -0.00377559  1.6322007  -0.13343033  0.52261585  0.07244689\n",
      " -0.16300394 -0.7853639  -0.77097845  0.10249051 -0.44588706  0.07907961\n",
      " -0.64492095 -1.1721147  -0.10960778 -0.5300207   0.15944648  0.5082008\n",
      " -0.02295066 -0.38686743 -0.12500961  0.9781532   0.11443118 -0.34605595\n",
      "  0.52256274 -0.42880413 -0.02246398  0.90513706  0.4201659  -0.08811852\n",
      " -0.43410537  0.10818257  0.23623739 -0.02798011 -0.88127255 -0.09338544\n",
      " -0.01203048  1.2053657   0.29829267 -0.780008   -0.5634531  -0.27205053\n",
      " -0.1797119   0.720939    0.59478533 -0.7218154  -0.5474939   0.3658837\n",
      "  0.2780957  -0.7322638  -0.038252    0.53579324 -0.13984907  1.0590369\n",
      " -0.8977168  -0.1595078   0.78155583 -0.22167456  0.36405554 -0.51919395\n",
      "  0.06300057 -0.23425142  0.5086136  -0.79540044  0.8000886   0.7720561\n",
      "  0.26110527 -1.4978875   0.3207816  -1.2853769 ]\n"
     ]
    }
   ],
   "source": [
    "# 將句子轉換為向量\n",
    "X_train = np.array([sentence_to_vector(sentence, word2vec_model) for sentence in train_df['text']])\n",
    "y_train = train_df['label'].values\n",
    "\n",
    "X_val = np.array([sentence_to_vector(sentence, word2vec_model) for sentence in val_df['text']])\n",
    "y_val = val_df['label'].values\n",
    "\n",
    "X_test = np.array([sentence_to_vector(sentence, word2vec_model) for sentence in test_df['text']])\n",
    "\n",
    "X_train = np.nan_to_num(X_train)\n",
    "X_val = np.nan_to_num(X_val)\n",
    "X_test = np.nan_to_num(X_test)\n",
    "\n",
    "print(X_train[0])\n",
    "print(X_val[0])\n",
    "print(X_test[0])"
   ]
  },
  {
   "cell_type": "markdown",
   "metadata": {},
   "source": [
    "# Validation\n",
    "\n",
    "- Logistic Regression: 0.71\n",
    "- SVM: 0.72"
   ]
  },
  {
   "cell_type": "code",
   "execution_count": 10,
   "metadata": {},
   "outputs": [
    {
     "name": "stdout",
     "output_type": "stream",
     "text": [
      "Validation Accuracy: 0.72\n"
     ]
    }
   ],
   "source": [
    "# SVM\n",
    "clf = svm.SVC(kernel='linear')\n",
    "clf.fit(X_train, y_train)\n",
    "\n",
    "# predict\n",
    "y_val_pred = clf.predict(X_val)\n",
    "val_accuracy = accuracy_score(y_val, y_val_pred)\n",
    "val_df['label'] = y_val_pred\n",
    "val_df.to_csv('result/val_SVM.csv', index=False)\n",
    "print(f'Validation Accuracy: {val_accuracy:.2f}')"
   ]
  },
  {
   "cell_type": "code",
   "execution_count": 11,
   "metadata": {},
   "outputs": [
    {
     "name": "stdout",
     "output_type": "stream",
     "text": [
      "Validation Accuracy: 0.71\n"
     ]
    }
   ],
   "source": [
    "# Logistic Regression\n",
    "logreg_clf = LogisticRegression(max_iter=1000)\n",
    "logreg_clf.fit(X_train, y_train)\n",
    "\n",
    "# predict\n",
    "y_val_pred = logreg_clf.predict(X_val)\n",
    "val_accuracy = accuracy_score(y_val, y_val_pred)\n",
    "val_df['label'] = y_val_pred\n",
    "val_df.to_csv('result/val_LR.csv', index=False)\n",
    "print(f'Validation Accuracy: {val_accuracy:.2f}')"
   ]
  },
  {
   "cell_type": "markdown",
   "metadata": {},
   "source": [
    "# Test"
   ]
  },
  {
   "cell_type": "code",
   "execution_count": 12,
   "metadata": {},
   "outputs": [],
   "source": [
    "# predict test data\n",
    "y_test_pred = logreg_clf.predict(X_test)\n",
    "test_df['label'] = y_test_pred\n",
    "test_df.to_csv('result/test_LR.csv', index=False)\n",
    "\n",
    "# predict test data\n",
    "y_test_pred = clf.predict(X_test)\n",
    "test_df['label'] = y_test_pred\n",
    "test_df.to_csv('result/test_SVM.csv', index=False)\n"
   ]
  }
 ],
 "metadata": {
  "kernelspec": {
   "display_name": "forgery-detection",
   "language": "python",
   "name": "python3"
  },
  "language_info": {
   "codemirror_mode": {
    "name": "ipython",
    "version": 3
   },
   "file_extension": ".py",
   "mimetype": "text/x-python",
   "name": "python",
   "nbconvert_exporter": "python",
   "pygments_lexer": "ipython3",
   "version": "3.10.10"
  }
 },
 "nbformat": 4,
 "nbformat_minor": 2
}
