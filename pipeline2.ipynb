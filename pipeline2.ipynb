{
 "cells": [
  {
   "cell_type": "markdown",
   "metadata": {},
   "source": [
    "# Pipeline 2: \n",
    "Content -> Embedding -> ML -> Classification"
   ]
  },
  {
   "cell_type": "code",
   "execution_count": null,
   "metadata": {},
   "outputs": [],
   "source": [
    "# import package\n",
    "import numpy as np\n",
    "import pandas as pd\n",
    "from sklearn.model_selection import train_test_split"
   ]
  },
  {
   "cell_type": "markdown",
   "metadata": {},
   "source": [
    "## Dataset"
   ]
  },
  {
   "cell_type": "code",
   "execution_count": null,
   "metadata": {},
   "outputs": [],
   "source": [
    "# load data\n",
    "train_df = pd.read_csv('dataset/train_embedding.csv', sep='\\t', encoding='utf-8')\n",
    "val_df = pd.read_csv('dataset/val_embedding.csv', sep='\\t', encoding='utf-8')\n",
    "test_df = pd.read_csv('dataset/test_embedding.csv', sep='\\t', encoding='utf-8')\n",
    "print(f\"Training data shape: {train_df.shape}\")\n",
    "print(train_df.head())\n",
    "print(f\"Validation data shape: {val_df.shape}\")\n",
    "print(val_df.head())\n",
    "print(f\"Testing data shape: {test_df.shape}\")\n",
    "print(test_df.head())   # no labels"
   ]
  },
  {
   "cell_type": "code",
   "execution_count": null,
   "metadata": {},
   "outputs": [],
   "source": [
    "# transfrom embedding to list of int\n",
    "import ast\n",
    "\n",
    "# read\n",
    "print(train_df['embedding'][0])   \n",
    "print(type(train_df['embedding'][0])) # string\n",
    "\n",
    "# convert the embeddings to list\n",
    "train_df['embedding'] = train_df['embedding'].apply(lambda x: ast.literal_eval(x))\n",
    "val_df['embedding'] = val_df['embedding'].apply(lambda x: ast.literal_eval(x))\n",
    "test_df['embedding'] = test_df['embedding'].apply(lambda x: ast.literal_eval(x))\n",
    "\n",
    "# convert the embeddings to list of integers\n",
    "train_df['embedding'] = train_df['embedding'].apply(lambda x: list(map(int, x)))\n",
    "val_df['embedding'] = val_df['embedding'].apply(lambda x: list(map(int, x)))\n",
    "test_df['embedding'] = test_df['embedding'].apply(lambda x: list(map(int, x)))\n",
    "\n",
    "print(train_df['embedding'][0])\n",
    "print(type(train_df['embedding'][0])) # list of integers\n"
   ]
  }
 ],
 "metadata": {
  "kernelspec": {
   "display_name": "forgery-detection",
   "language": "python",
   "name": "python3"
  },
  "language_info": {
   "codemirror_mode": {
    "name": "ipython",
    "version": 3
   },
   "file_extension": ".py",
   "mimetype": "text/x-python",
   "name": "python",
   "nbconvert_exporter": "python",
   "pygments_lexer": "ipython3",
   "version": "3.10.12"
  }
 },
 "nbformat": 4,
 "nbformat_minor": 2
}
