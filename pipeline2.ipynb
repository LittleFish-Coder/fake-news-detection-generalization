{
 "cells": [
  {
   "cell_type": "markdown",
   "metadata": {},
   "source": [
    "# Pipeline 2: \n",
    "Content -> Embedding -> ML -> Classification"
   ]
  },
  {
   "cell_type": "code",
   "execution_count": 1,
   "metadata": {},
   "outputs": [],
   "source": [
    "# import package\n",
    "import numpy as np\n",
    "import pandas as pd\n",
    "from sklearn.model_selection import train_test_split"
   ]
  },
  {
   "cell_type": "markdown",
   "metadata": {},
   "source": [
    "# Load Data\n"
   ]
  },
  {
   "cell_type": "code",
   "execution_count": 4,
   "metadata": {},
   "outputs": [
    {
     "data": {
      "text/plain": [
       "(4986, 768)"
      ]
     },
     "execution_count": 4,
     "metadata": {},
     "output_type": "execute_result"
    }
   ],
   "source": [
    "embedding_df = pd.read_csv('dataset/embedding.csv', encoding='utf-8')\n",
    "embedding_df.shape"
   ]
  },
  {
   "cell_type": "code",
   "execution_count": 5,
   "metadata": {},
   "outputs": [
    {
     "data": {
      "text/plain": [
       "(4986, 1)"
      ]
     },
     "execution_count": 5,
     "metadata": {},
     "output_type": "execute_result"
    }
   ],
   "source": [
    "label_df = pd.read_csv('dataset/label.csv', encoding='utf-8')\n",
    "label_df.shape"
   ]
  },
  {
   "cell_type": "markdown",
   "metadata": {},
   "source": [
    "## Dataset"
   ]
  },
  {
   "cell_type": "code",
   "execution_count": 2,
   "metadata": {},
   "outputs": [
    {
     "name": "stdout",
     "output_type": "stream",
     "text": [
      "Training data shape: (3988, 2)\n",
      "                                           embedding  label\n",
      "0  [101, 3220, 7158, 5708, 1010, 2040, 2038, 3130...      0\n",
      "1  [101, 11977, 2086, 3283, 1010, 1037, 5637, 215...      0\n",
      "2  [101, 1996, 2388, 999, 1997, 2035, 6550, 2003,...      1\n",
      "3  [101, 1996, 3951, 2162, 2006, 2308, 4247, 1447...      1\n",
      "4  [101, 2004, 4202, 9170, 4455, 2041, 1996, 5223...      0\n",
      "Validation data shape: (998, 2)\n",
      "                                           embedding  label\n",
      "0  [101, 2577, 10805, 18856, 7828, 3240, 1006, 21...      1\n",
      "1  [101, 2079, 2017, 2514, 2009, 1999, 2115, 3093...      0\n",
      "2  [101, 15147, 1996, 2548, 2155, 5935, 2023, 285...      0\n",
      "3  [101, 5074, 9932, 4244, 1010, 2280, 4419, 2739...      0\n",
      "4  [101, 2137, 7642, 2775, 4424, 6905, 2099, 1998...      0\n",
      "Testing data shape: (1247, 2)\n",
      "   id                                          embedding\n",
      "0   2  [101, 1996, 2418, 9458, 3601, 2982, 5103, 2001...\n",
      "1   3  [101, 1996, 4164, 1010, 2112, 1997, 1523, 1996...\n",
      "2   4  [101, 19166, 12791, 10220, 2000, 2831, 2000, 2...\n",
      "3   5  [101, 2023, 2003, 4788, 2084, 1037, 15116, 199...\n",
      "4   6  [101, 11320, 11639, 2139, 2625, 13699, 2015, 2...\n"
     ]
    }
   ],
   "source": [
    "# # load data\n",
    "# train_df = pd.read_csv('dataset/train_embedding.csv',\n",
    "#                        sep='\\t', encoding='utf-8')\n",
    "# val_df = pd.read_csv('dataset/val_embedding.csv', sep='\\t', encoding='utf-8')\n",
    "# test_df = pd.read_csv('dataset/test_embedding.csv', sep='\\t', encoding='utf-8')\n",
    "# print(f\"Training data shape: {train_df.shape}\")\n",
    "# print(train_df.head())\n",
    "# print(f\"Validation data shape: {val_df.shape}\")\n",
    "# print(val_df.head())\n",
    "# print(f\"Testing data shape: {test_df.shape}\")\n",
    "# print(test_df.head())   # no labels"
   ]
  },
  {
   "cell_type": "code",
   "execution_count": 8,
   "metadata": {},
   "outputs": [],
   "source": [
    "# # transfrom embedding to list of int\n",
    "# import ast\n",
    "\n",
    "# # read\n",
    "# print(train_df['embedding'][0])\n",
    "# print(type(train_df['embedding'][0]))  # string\n",
    "\n",
    "# # convert the embeddings to list\n",
    "# train_df['embedding'] = train_df['embedding'].apply(\n",
    "#     lambda x: ast.literal_eval(x))\n",
    "# val_df['embedding'] = val_df['embedding'].apply(lambda x: ast.literal_eval(x))\n",
    "# test_df['embedding'] = test_df['embedding'].apply(\n",
    "#     lambda x: ast.literal_eval(x))\n",
    "\n",
    "# # convert the embeddings to list of integers\n",
    "# train_df['embedding'] = train_df['embedding'].apply(\n",
    "#     lambda x: list(map(int, x)))\n",
    "# val_df['embedding'] = val_df['embedding'].apply(lambda x: list(map(int, x)))\n",
    "# test_df['embedding'] = test_df['embedding'].apply(lambda x: list(map(int, x)))\n",
    "\n",
    "# print(train_df['embedding'][0])\n",
    "# print(type(train_df['embedding'][0]))  # list of integers"
   ]
  },
  {
   "cell_type": "markdown",
   "metadata": {},
   "source": [
    "# Training Model"
   ]
  },
  {
   "cell_type": "code",
   "execution_count": 6,
   "metadata": {},
   "outputs": [
    {
     "name": "stderr",
     "output_type": "stream",
     "text": [
      "c:\\Users\\Maggie\\miniconda3\\envs\\fake-news\\lib\\site-packages\\sklearn\\utils\\validation.py:1310: DataConversionWarning: A column-vector y was passed when a 1d array was expected. Please change the shape of y to (n_samples, ), for example using ravel().\n",
      "  y = column_or_1d(y, warn=True)\n",
      "c:\\Users\\Maggie\\miniconda3\\envs\\fake-news\\lib\\site-packages\\sklearn\\linear_model\\_logistic.py:469: ConvergenceWarning: lbfgs failed to converge (status=1):\n",
      "STOP: TOTAL NO. of ITERATIONS REACHED LIMIT.\n",
      "\n",
      "Increase the number of iterations (max_iter) or scale the data as shown in:\n",
      "    https://scikit-learn.org/stable/modules/preprocessing.html\n",
      "Please also refer to the documentation for alternative solver options:\n",
      "    https://scikit-learn.org/stable/modules/linear_model.html#logistic-regression\n",
      "  n_iter_i = _check_optimize_result(\n",
      "c:\\Users\\Maggie\\miniconda3\\envs\\fake-news\\lib\\site-packages\\sklearn\\utils\\validation.py:1310: DataConversionWarning: A column-vector y was passed when a 1d array was expected. Please change the shape of y to (n_samples, ), for example using ravel().\n",
      "  y = column_or_1d(y, warn=True)\n"
     ]
    },
    {
     "name": "stdout",
     "output_type": "stream",
     "text": [
      "Logistic Regression Accuracy: 0.6913827655310621\n",
      "SVM Accuracy: 0.7314629258517034\n"
     ]
    }
   ],
   "source": [
    "from sklearn.datasets import make_classification\n",
    "from sklearn.model_selection import train_test_split\n",
    "from sklearn.linear_model import LogisticRegression\n",
    "from sklearn.svm import SVC\n",
    "from sklearn.metrics import accuracy_score\n",
    "\n",
    "\n",
    "# 分割數據集\n",
    "X_train, X_test, y_train, y_test = train_test_split(\n",
    "    embedding_df, label_df, test_size=0.2, random_state=42)\n",
    "\n",
    "# 邏輯迴歸模型\n",
    "logreg = LogisticRegression()\n",
    "logreg.fit(X_train, y_train)\n",
    "logreg_pred = logreg.predict(X_test)\n",
    "print(\"Logistic Regression Accuracy:\", accuracy_score(y_test, logreg_pred))\n",
    "\n",
    "# SVM模型\n",
    "svm = SVC()\n",
    "svm.fit(X_train, y_train)\n",
    "svm_pred = svm.predict(X_test)\n",
    "print(\"SVM Accuracy:\", accuracy_score(y_test, svm_pred))"
   ]
  },
  {
   "cell_type": "code",
   "execution_count": null,
   "metadata": {},
   "outputs": [],
   "source": []
  }
 ],
 "metadata": {
  "kernelspec": {
   "display_name": "forgery-detection",
   "language": "python",
   "name": "python3"
  },
  "language_info": {
   "codemirror_mode": {
    "name": "ipython",
    "version": 3
   },
   "file_extension": ".py",
   "mimetype": "text/x-python",
   "name": "python",
   "nbconvert_exporter": "python",
   "pygments_lexer": "ipython3",
   "version": "3.10.14"
  }
 },
 "nbformat": 4,
 "nbformat_minor": 2
}
