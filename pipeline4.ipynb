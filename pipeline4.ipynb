{
 "cells": [
  {
   "cell_type": "markdown",
   "metadata": {},
   "source": [
    "## Pipeline 4: Word Embeddings + GNN"
   ]
  },
  {
   "cell_type": "code",
   "execution_count": null,
   "metadata": {},
   "outputs": [],
   "source": [
    "# import package\n",
    "import numpy as np\n",
    "import pandas as pd\n",
    "import torch\n",
    "import evaluate\n",
    "from torch.utils.data import DataLoader, Dataset\n",
    "from transformers import AutoTokenizer, DataCollatorWithPadding\n",
    "from transformers import AutoModelForSequenceClassification, TrainingArguments, Trainer\n",
    "from transformers import pipeline\n",
    "from sklearn.model_selection import train_test_split"
   ]
  },
  {
   "cell_type": "markdown",
   "metadata": {},
   "source": [
    "# Dataset"
   ]
  },
  {
   "cell_type": "code",
   "execution_count": null,
   "metadata": {},
   "outputs": [],
   "source": [
    "# load data\n",
    "train_df = pd.read_csv('dataset/train_embedding.csv', sep='\\t', encoding='utf-8')\n",
    "val_df = pd.read_csv('dataset/val_embedding.csv', sep='\\t', encoding='utf-8')\n",
    "test_df = pd.read_csv('dataset/test_embedding.csv', sep='\\t', encoding='utf-8')\n",
    "print(f\"Training data shape: {train_df.shape}\")\n",
    "print(train_df.head())\n",
    "print(f\"Validation data shape: {val_df.shape}\")\n",
    "print(val_df.head())\n",
    "print(f\"Testing data shape: {test_df.shape}\")\n",
    "print(test_df.head())   # no labels"
   ]
  },
  {
   "cell_type": "code",
   "execution_count": null,
   "metadata": {},
   "outputs": [],
   "source": [
    "# transfrom embedding to list of int\n",
    "import ast\n",
    "\n",
    "# read\n",
    "print(train_df['embedding'][0])   \n",
    "print(type(train_df['embedding'][0])) # string\n",
    "\n",
    "# convert the embeddings to list\n",
    "train_df['embedding'] = train_df['embedding'].apply(lambda x: ast.literal_eval(x))\n",
    "val_df['embedding'] = val_df['embedding'].apply(lambda x: ast.literal_eval(x))\n",
    "test_df['embedding'] = test_df['embedding'].apply(lambda x: ast.literal_eval(x))\n",
    "\n",
    "# convert the embeddings to list of integers\n",
    "train_df['embedding'] = train_df['embedding'].apply(lambda x: list(map(int, x)))\n",
    "val_df['embedding'] = val_df['embedding'].apply(lambda x: list(map(int, x)))\n",
    "test_df['embedding'] = test_df['embedding'].apply(lambda x: list(map(int, x)))\n",
    "\n",
    "print(train_df['embedding'][0])\n",
    "print(type(train_df['embedding'][0])) # list of integers\n",
    "\n"
   ]
  },
  {
   "cell_type": "code",
   "execution_count": null,
   "metadata": {},
   "outputs": [],
   "source": [
    "\n",
    "print(train_df['embedding'][0])\n",
    "print(type(train_df['embedding'][0])) # list of integers\n",
    "print(len(train_df))\n",
    "\n",
    "print(val_df['embedding'][0])\n",
    "print(type(val_df['embedding'][0])) # list of integers\n",
    "print(len(val_df))\n",
    "\n",
    "print(test_df['embedding'][0])\n",
    "print(type(test_df['embedding'][0])) # list of integers\n",
    "print(len(test_df))"
   ]
  },
  {
   "cell_type": "code",
   "execution_count": null,
   "metadata": {},
   "outputs": [],
   "source": [
    "# print torch cuda\n",
    "print(torch.cuda)"
   ]
  },
  {
   "cell_type": "code",
   "execution_count": null,
   "metadata": {},
   "outputs": [],
   "source": [
    "import os\n",
    "os.environ['TORCH'] = torch.__version__\n",
    "print(torch.__version__)\n",
    "%pip install -q torch-scatter -f https://data.pyg.org/whl/torch-${TORCH}+cu118.html\n",
    "%pip install -q torch-sparse -f https://data.pyg.org/whl/torch-${TORCH}+cu118.html\n",
    "%pip install -q git+https://github.com/pyg-team/pytorch_geometric.git\n",
    "%pip install torch-spline-conv -f https://data.pyg.org/whl/torch-${TORCH}+cpu.html\n",
    "%pip install -q torch-cluster -f https://data.pyg.org/whl/torch-${TORCH}+cu118.html"
   ]
  },
  {
   "cell_type": "code",
   "execution_count": null,
   "metadata": {},
   "outputs": [],
   "source": [
    "%pip install torch_geometric"
   ]
  },
  {
   "cell_type": "code",
   "execution_count": null,
   "metadata": {},
   "outputs": [],
   "source": [
    "import torch.nn.functional as F\n",
    "from torch_geometric.nn import GCNConv"
   ]
  },
  {
   "cell_type": "code",
   "execution_count": null,
   "metadata": {},
   "outputs": [],
   "source": []
  }
 ],
 "metadata": {
  "kernelspec": {
   "display_name": "fake-news",
   "language": "python",
   "name": "python3"
  },
  "language_info": {
   "codemirror_mode": {
    "name": "ipython",
    "version": 3
   },
   "file_extension": ".py",
   "mimetype": "text/x-python",
   "name": "python",
   "nbconvert_exporter": "python",
   "pygments_lexer": "ipython3",
   "version": "3.10.14"
  }
 },
 "nbformat": 4,
 "nbformat_minor": 2
}
